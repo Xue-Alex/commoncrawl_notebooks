{
 "cells": [
  {
   "cell_type": "code",
   "execution_count": 1,
   "metadata": {},
   "outputs": [],
   "source": [
    "import matplotlib.pyplot as plt\n"
   ]
  },
  {
   "cell_type": "code",
   "execution_count": 14,
   "metadata": {},
   "outputs": [],
   "source": [
    "file_name = \"cc-main-2020-feb-mar-may-domain.indegree\""
   ]
  },
  {
   "cell_type": "code",
   "execution_count": 15,
   "metadata": {},
   "outputs": [],
   "source": [
    "x_axis_label = file_name.split(\".\")[1]\n",
    "y_axis_label = \"Number of PLDs\""
   ]
  },
  {
   "cell_type": "code",
   "execution_count": 16,
   "metadata": {},
   "outputs": [
    {
     "name": "stdout",
     "output_type": "stream",
     "text": [
      "21931936\n"
     ]
    }
   ],
   "source": [
    "frequency = []\n",
    "x = []\n",
    "blah = 0\n",
    "with open(file_name) as a_file:\n",
    "    for i,line in enumerate(a_file):\n",
    "        blah += 1\n",
    "        \n",
    "        x.append(i)\n",
    "        frequency.append(int(line.strip()))\n",
    "print(len(frequency))  "
   ]
  },
  {
   "cell_type": "code",
   "execution_count": 17,
   "metadata": {},
   "outputs": [
    {
     "data": {
      "image/png": "[encoded data removed]",
      "text/plain": [
       "<Figure size 432x288 with 1 Axes>"
      ]
     },
     "metadata": {
      "needs_background": "light"
     },
     "output_type": "display_data"
    }
   ],
   "source": [
    "import matplotlib.pylab as plt\n",
    "\n",
    "\n",
    "y = frequency\n",
    "x = [i for i in range(len(y))]\n",
    "\n",
    "plt.semilogy([1,10,100,1000,10000,100000,1000000])\n",
    "plt.semilogx([1,10,100,1000,10000,100000,1000000])\n",
    "\n",
    "#plt.semilogx(x)\n",
    "#plt.semilogy(y)\n",
    "\n",
    "plt.scatter(x,y)\n",
    "plt.xlabel(x_axis_label)\n",
    "plt.ylabel(y_axis_label)\n",
    "\n",
    "plt.show()"
   ]
  },
  {
   "cell_type": "code",
   "execution_count": null,
   "metadata": {},
   "outputs": [],
   "source": []
  }
 ],
 "metadata": {
  "kernelspec": {
   "display_name": "Python 3",
   "language": "python",
   "name": "python3"
  },
  "language_info": {
   "codemirror_mode": {
    "name": "ipython",
    "version": 3
   },
   "file_extension": ".py",
   "mimetype": "text/x-python",
   "name": "python",
   "nbconvert_exporter": "python",
   "pygments_lexer": "ipython3",
   "version": "3.8.3"
  }
 },
 "nbformat": 4,
 "nbformat_minor": 4
}
